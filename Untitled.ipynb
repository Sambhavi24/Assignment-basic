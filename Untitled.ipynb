{
 "cells": [
  {
   "cell_type": "markdown",
   "id": "4f333a95",
   "metadata": {},
   "source": [
    "# AVERAGE"
   ]
  },
  {
   "cell_type": "code",
   "execution_count": 4,
   "id": "1256c0f8",
   "metadata": {},
   "outputs": [
    {
     "name": "stdout",
     "output_type": "stream",
     "text": [
      "Enter a number1\n",
      "Enter a number2\n",
      "Enter a number3\n",
      "Enter a number4\n",
      "Enter a number5\n",
      "Enter a number6\n",
      "Enter a number7\n",
      "Enter a number8\n",
      "Enter a number9\n",
      "Enter a number0\n",
      "The average of numbers are is 4.5\n"
     ]
    }
   ],
   "source": [
    "sum=0\n",
    "for i in range(1,11):\n",
    "    a=int(input(\"Enter a number\"))\n",
    "    sum=sum+a\n",
    "avg=sum/10\n",
    "print(\"The average of numbers are is\",avg)\n",
    "    \n",
    "    "
   ]
  },
  {
   "cell_type": "markdown",
   "id": "644f2f74",
   "metadata": {},
   "source": [
    "# FACTORIAL"
   ]
  },
  {
   "cell_type": "code",
   "execution_count": 26,
   "id": "7dc01826",
   "metadata": {},
   "outputs": [
    {
     "name": "stdout",
     "output_type": "stream",
     "text": [
      "enter a number5\n",
      "120\n"
     ]
    }
   ],
   "source": [
    "n=int(input(\"enter a number\"))\n",
    "fact=1\n",
    "for i in range(1,n+1):\n",
    "    fact=fact*i\n",
    "    \n",
    "    \n",
    "print(fact)"
   ]
  },
  {
   "cell_type": "markdown",
   "id": "cfe48e03",
   "metadata": {},
   "source": [
    "# FIBONACCI"
   ]
  },
  {
   "cell_type": "code",
   "execution_count": 41,
   "id": "a52da8d9",
   "metadata": {},
   "outputs": [
    {
     "name": "stdout",
     "output_type": "stream",
     "text": [
      "enter the number8\n",
      "Fibonacci series is 0 1 1 2 3 5 8 13 21 "
     ]
    }
   ],
   "source": [
    "n1=0\n",
    "n2=1\n",
    "n=int(input(\"enter the number\"))\n",
    "print(\"Fibonacci series is\",n1,n2,end=\" \")\n",
    "for i in range(2,n+1):\n",
    "    n3=n1+n2\n",
    "    n1=n2\n",
    "    n2=n3\n",
    "    \n",
    "    print(n3,end=\" \")\n",
    "#print(\"Fibonacci series is\",n1,n2)\n"
   ]
  },
  {
   "cell_type": "code",
   "execution_count": null,
   "id": "99a2dc4a",
   "metadata": {},
   "outputs": [],
   "source": []
  }
 ],
 "metadata": {
  "kernelspec": {
   "display_name": "Python 3 (ipykernel)",
   "language": "python",
   "name": "python3"
  },
  "language_info": {
   "codemirror_mode": {
    "name": "ipython",
    "version": 3
   },
   "file_extension": ".py",
   "mimetype": "text/x-python",
   "name": "python",
   "nbconvert_exporter": "python",
   "pygments_lexer": "ipython3",
   "version": "3.11.3"
  }
 },
 "nbformat": 4,
 "nbformat_minor": 5
}
